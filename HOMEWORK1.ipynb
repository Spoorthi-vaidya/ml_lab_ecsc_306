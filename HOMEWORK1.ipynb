{
 "cells": [
  {
   "cell_type": "code",
   "execution_count": 4,
   "metadata": {},
   "outputs": [
    {
     "name": "stdout",
     "output_type": "stream",
     "text": [
      "121\n"
     ]
    }
   ],
   "source": [
    "import tensorflow as tf\n",
    "a=4\n",
    "b=7\n",
    "c=9\n",
    "x=tf.multiply(a,a)\n",
    "y=tf.multiply(b,b)\n",
    "z=tf.multiply(2,a)\n",
    "r=tf.multiply(z,b)\n",
    "s=tf.add(x,y)\n",
    "t=tf.add(s,r)\n",
    "\n",
    "\n",
    "with tf.Session() as sess:\n",
    "    writer = tf.summary.FileWriter(\"/tmp/tboard/output1\", sess.graph)\n",
    "    print(sess.run(t))\n",
    "    writer.close()\n",
    "\n",
    "\n",
    "\n",
    "\n",
    "\n",
    "\n",
    "\n"
   ]
  },
  {
   "cell_type": "code",
   "execution_count": 5,
   "metadata": {},
   "outputs": [
    {
     "name": "stdout",
     "output_type": "stream",
     "text": [
      "-999\n"
     ]
    }
   ],
   "source": [
    "#(a-b)^3\n",
    "import tensorflow as tf\n",
    "a=6\n",
    "b=9\n",
    "x=tf.multiply(a,a)\n",
    "y=tf.multiply(x,a)\n",
    "z=tf.multiply(b,b)\n",
    "z=tf.multiply(z,b)\n",
    "r=tf.subtract(y,z)\n",
    "s=tf.multiply(3,a)\n",
    "s=tf.multiply(s,b)\n",
    "t=tf.subtract(a,b)\n",
    "t=tf.multiply(s,t)\n",
    "r=tf.add(t,r)\n",
    "with tf.Session() as sess:\n",
    "    writer = tf.summary.FileWriter(\"/tmp/tboard/output2\", sess.graph)\n",
    "    print(sess.run(r))\n",
    "    writer.close()\n",
    "\n"
   ]
  },
  {
   "cell_type": "code",
   "execution_count": null,
   "metadata": {
    "collapsed": true
   },
   "outputs": [],
   "source": []
  }
 ],
 "metadata": {
  "kernelspec": {
   "display_name": "Python 3",
   "language": "python",
   "name": "python3"
  },
  "language_info": {
   "codemirror_mode": {
    "name": "ipython",
    "version": 3
   },
   "file_extension": ".py",
   "mimetype": "text/x-python",
   "name": "python",
   "nbconvert_exporter": "python",
   "pygments_lexer": "ipython3",
   "version": "3.6.1"
  }
 },
 "nbformat": 4,
 "nbformat_minor": 2
}
