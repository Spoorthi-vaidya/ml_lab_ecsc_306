{
 "cells": [
  {
   "cell_type": "code",
   "execution_count": 1,
   "metadata": {},
   "outputs": [],
   "source": [
    "\n",
    "import numpy as np\n",
    "import tensorflow as tf\n",
    "x=tf.constant([10.1,10.2,1.1],name=\"x\")\n",
    "y=tf.constant([1.1,1.2,1.3],name=\"y\")\n",
    "z=[]\n",
    "#z=tf.constant([0.0,0.0,0.0],name=\"z\")"
   ]
  },
  {
   "cell_type": "code",
   "execution_count": 2,
   "metadata": {},
   "outputs": [],
   "source": [
    "\n",
    "with tf.name_scope(\"lab2_classwork1\"):\n",
    "    with tf.name_scope(\"meanx\"):\n",
    "        sum1=0.0\n",
    "        for i in range(3):\n",
    "            sum1=tf.add(sum1,x[i])\n",
    "        meanx=tf.divide(sum1,3.0)\n",
    "        #meanx=sum/3.0\n"
   ]
  },
  {
   "cell_type": "code",
   "execution_count": 3,
   "metadata": {},
   "outputs": [],
   "source": [
    "\n",
    "  \n",
    "\n",
    "with tf.name_scope(\"meany\"):\n",
    "        sum2=0.0\n",
    "        for i in range(3):\n",
    "            sum2=tf.add(sum2,y[i])\n",
    "        meany=tf.divide(sum2,3.0)\n",
    "        #meany=sum2/3.0\n",
    "    "
   ]
  },
  {
   "cell_type": "code",
   "execution_count": 4,
   "metadata": {},
   "outputs": [],
   "source": [
    "\n",
    "\n",
    "#$$variance(x)=sum((x-mean(x))^2)$$\n",
    "with tf.name_scope(\"variancex\"):\n",
    "        variancex=0.0\n",
    "        for i in range(3):\n",
    "        #variancex=pow((x[i]-meanx),2)+variancex\n",
    "            variancex=tf.add(tf.pow(tf.subtract(x[i],meanx),2.0),variancex)\n",
    "    "
   ]
  },
  {
   "cell_type": "code",
   "execution_count": 5,
   "metadata": {},
   "outputs": [],
   "source": [
    " \n",
    "##$$covariance = sum((x(i) - mean(x)) * (y(i) - mean(y)))$$\n",
    "with tf.name_scope(\"covariancexy\"):\n",
    "        covariance=0.0\n",
    "        for i in range(3):\n",
    "        #covariance=covariance+((x[i]-meanx)*(y[i]-meany))\n",
    "            covariance=tf.add(covariance,(tf.multiply(tf.subtract(x[i],meanx),tf.subtract(y[i],meany))))\n"
   ]
  },
  {
   "cell_type": "code",
   "execution_count": 6,
   "metadata": {
    "collapsed": true
   },
   "outputs": [],
   "source": [
    "\n",
    "##$$c = covariance(x,y)/variance(x)$$\n",
    "with tf.name_scope(\"c\"):\n",
    "        c=tf.divide(covariance,variancex)\n",
    "        #c=covariance/variancex"
   ]
  },
  {
   "cell_type": "code",
   "execution_count": 7,
   "metadata": {
    "collapsed": true
   },
   "outputs": [],
   "source": [
    "with tf.name_scope(\"m\"):\n",
    "        m=tf.subtract(meany,(tf.multiply(c,meanx)))"
   ]
  },
  {
   "cell_type": "code",
   "execution_count": 8,
   "metadata": {},
   "outputs": [],
   "source": [
    "\n",
    "with tf.name_scope(\"y\"):\n",
    "        for i in range(3):\n",
    "            z.append(tf.add(tf.multiply(m,x[i]),c))\n",
    "            #z[i]=m*x[i]+c"
   ]
  },
  {
   "cell_type": "code",
   "execution_count": 9,
   "metadata": {},
   "outputs": [
    {
     "name": "stdout",
     "output_type": "stream",
     "text": [
      "[13.290956, 13.422712, 1.4328433]\n"
     ]
    }
   ],
   "source": [
    "\n",
    "\n",
    "\n",
    "with tf.Session() as sess:\n",
    "        writer = tf.summary.FileWriter(\"/tmp/tboard/lab2\", sess.graph)\n",
    "        print(sess.run(z))\n",
    "        writer.close()"
   ]
  },
  {
   "cell_type": "code",
   "execution_count": null,
   "metadata": {
    "collapsed": true
   },
   "outputs": [],
   "source": []
  },
  {
   "cell_type": "code",
   "execution_count": null,
   "metadata": {
    "collapsed": true
   },
   "outputs": [],
   "source": []
  },
  {
   "cell_type": "code",
   "execution_count": null,
   "metadata": {
    "collapsed": true
   },
   "outputs": [],
   "source": []
  },
  {
   "cell_type": "code",
   "execution_count": null,
   "metadata": {
    "collapsed": true
   },
   "outputs": [],
   "source": []
  }
 ],
 "metadata": {
  "kernelspec": {
   "display_name": "Python 3",
   "language": "python",
   "name": "python3"
  },
  "language_info": {
   "codemirror_mode": {
    "name": "ipython",
    "version": 3
   },
   "file_extension": ".py",
   "mimetype": "text/x-python",
   "name": "python",
   "nbconvert_exporter": "python",
   "pygments_lexer": "ipython3",
   "version": "3.6.1"
  }
 },
 "nbformat": 4,
 "nbformat_minor": 2
}
